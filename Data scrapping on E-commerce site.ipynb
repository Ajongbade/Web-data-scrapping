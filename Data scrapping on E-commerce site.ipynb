{
 "cells": [
  {
   "cell_type": "code",
   "execution_count": 3,
   "id": "c9271fdb",
   "metadata": {},
   "outputs": [],
   "source": [
    "from bs4 import BeautifulSoup\n",
    "import requests\n",
    "import time\n",
    "import datetime"
   ]
  },
  {
   "cell_type": "code",
   "execution_count": 63,
   "id": "d4da3271",
   "metadata": {},
   "outputs": [
    {
     "name": "stdout",
     "output_type": "stream",
     "text": [
      "\n",
      "\n",
      "            1/4 Inch Ball Valve NPT Air Compressor Brass Valve Female Male Shut Off Small\n",
      "           \n",
      "\n",
      "\n",
      "\n",
      "\n",
      "\n",
      "\n",
      "              Price:\n",
      "             \n",
      "\n",
      "\n",
      "\n",
      "                $7.99\n",
      "               \n",
      "\n",
      "                $7.99\n",
      "               \n",
      "\n",
      "\n",
      "\n",
      "\n",
      "\n",
      "\n",
      "\n",
      "\n",
      "\n",
      "\n",
      "\n",
      "\n",
      "\n",
      "\n",
      "\n",
      "\n",
      "\n",
      "\n",
      "\n",
      "\n",
      "\n",
      "\n",
      "\n",
      "\n"
     ]
    }
   ],
   "source": [
    "#connect to website\n",
    "\n",
    "URL = 'https://www.amazon.com/Valve-Compressor-Brass-Female-Small/dp/B0823QBKFV/ref=sr_1_11?crid=P0V2UOKVYY8B&keywords=valve&qid=1649227662&sprefix=valve%2Caps%2C742&sr=8-11'\n",
    "\n",
    "headers = {\"User-Agent\": \"Mozilla/5.0 (Windows NT 10.0; Win64; x64) AppleWebKit/537.36 (KHTML, like Gecko) Chrome/97.0.4692.71 Safari/537.36\",\"Accept-Encoding\":\"gzip, deflate\", \"Accept\":\"text/html,application/xhtml+xml,application/xml;q=0.9,*/*;q=0.8\", \"DNT\":\"1\",\"Connection\":\"close\", \"Upgrade-Insecure-Requests\":\"1\"}\n",
    "\n",
    "page = requests.get(URL, headers=headers)\n",
    "soup1 = BeautifulSoup(page.content, \"html.parser\")\n",
    "\n",
    "soup2 = BeautifulSoup(soup1.prettify(), 'html.parser')\n",
    "\n",
    "title = soup2.find(id = 'title').get_text()\n",
    "\n",
    "price = soup2.find(id = 'corePrice_desktop').get_text() \n",
    "                                                     \n",
    "\n",
    "print(title)\n",
    "print(price)"
   ]
  },
  {
   "cell_type": "code",
   "execution_count": 32,
   "id": "441889a4",
   "metadata": {},
   "outputs": [
    {
     "data": {
      "text/plain": [
       "'7.99'"
      ]
     },
     "execution_count": 32,
     "metadata": {},
     "output_type": "execute_result"
    }
   ],
   "source": [
    "#clean price data\n",
    "price.strip()[80:]"
   ]
  },
  {
   "cell_type": "code",
   "execution_count": 33,
   "id": "5f1d4c20",
   "metadata": {},
   "outputs": [],
   "source": [
    "price = price.strip()[80:]\n"
   ]
  },
  {
   "cell_type": "code",
   "execution_count": 34,
   "id": "5df05f3d",
   "metadata": {},
   "outputs": [
    {
     "name": "stdout",
     "output_type": "stream",
     "text": [
      "7.99\n"
     ]
    }
   ],
   "source": [
    "print (price)"
   ]
  },
  {
   "cell_type": "code",
   "execution_count": 42,
   "id": "810d19b3",
   "metadata": {},
   "outputs": [],
   "source": [
    "#clean title\n",
    "\n",
    "title = title.strip()"
   ]
  },
  {
   "cell_type": "code",
   "execution_count": 43,
   "id": "516bf74c",
   "metadata": {
    "scrolled": true
   },
   "outputs": [
    {
     "name": "stdout",
     "output_type": "stream",
     "text": [
      "1/4 Inch Ball Valve NPT Air Compressor Brass Valve Female Male Shut Off Small\n",
      "7.99\n"
     ]
    }
   ],
   "source": [
    "print (title)\n",
    "print (price)"
   ]
  },
  {
   "cell_type": "code",
   "execution_count": 49,
   "id": "e9188095",
   "metadata": {},
   "outputs": [
    {
     "name": "stdout",
     "output_type": "stream",
     "text": [
      "2022-04-06\n"
     ]
    }
   ],
   "source": [
    "#Add date when inputs are made\n",
    "\n",
    "today = datetime.date.today()\n",
    "\n",
    "print (today)"
   ]
  },
  {
   "cell_type": "code",
   "execution_count": 52,
   "id": "116c5590",
   "metadata": {},
   "outputs": [],
   "source": [
    "#export data as csv\n",
    "\n",
    "import csv \n",
    "header = ['Product', 'Price', 'Date Updated']\n",
    "\n",
    "data = [title, price, today]\n",
    "\n",
    "with open('valvedataset.csv', 'w', newline= '', encoding = 'UTF8') as f:\n",
    "    writer = csv.writer(f)\n",
    "    writer.writerow(header)\n",
    "    writer.writerow(data)\n",
    "    \n"
   ]
  },
  {
   "cell_type": "code",
   "execution_count": 57,
   "id": "76b550b5",
   "metadata": {},
   "outputs": [
    {
     "data": {
      "text/html": [
       "<div>\n",
       "<style scoped>\n",
       "    .dataframe tbody tr th:only-of-type {\n",
       "        vertical-align: middle;\n",
       "    }\n",
       "\n",
       "    .dataframe tbody tr th {\n",
       "        vertical-align: top;\n",
       "    }\n",
       "\n",
       "    .dataframe thead th {\n",
       "        text-align: right;\n",
       "    }\n",
       "</style>\n",
       "<table border=\"1\" class=\"dataframe\">\n",
       "  <thead>\n",
       "    <tr style=\"text-align: right;\">\n",
       "      <th></th>\n",
       "      <th>Product</th>\n",
       "      <th>Price</th>\n",
       "      <th>Date Updated</th>\n",
       "    </tr>\n",
       "  </thead>\n",
       "  <tbody>\n",
       "    <tr>\n",
       "      <th>0</th>\n",
       "      <td>1/4 Inch Ball Valve NPT Air Compressor Brass V...</td>\n",
       "      <td>7.99</td>\n",
       "      <td>2022-04-06</td>\n",
       "    </tr>\n",
       "    <tr>\n",
       "      <th>1</th>\n",
       "      <td>1/4 Inch Ball Valve NPT Air Compressor Brass V...</td>\n",
       "      <td>7.99</td>\n",
       "      <td>2022-04-06</td>\n",
       "    </tr>\n",
       "  </tbody>\n",
       "</table>\n",
       "</div>"
      ],
      "text/plain": [
       "                                             Product  Price Date Updated\n",
       "0  1/4 Inch Ball Valve NPT Air Compressor Brass V...   7.99   2022-04-06\n",
       "1  1/4 Inch Ball Valve NPT Air Compressor Brass V...   7.99   2022-04-06"
      ]
     },
     "execution_count": 57,
     "metadata": {},
     "output_type": "execute_result"
    }
   ],
   "source": [
    "#show data \n",
    "import pandas as pd \n",
    "df = pd.read_csv(r'C:\\Users\\dele\\valvedataset.csv')\n",
    "\n",
    "df"
   ]
  },
  {
   "cell_type": "code",
   "execution_count": 56,
   "id": "6578ab89",
   "metadata": {},
   "outputs": [],
   "source": [
    "#append data \n",
    "\n",
    "\n",
    "\n",
    "with open('valvedataset.csv', 'a+', newline= '', encoding = 'UTF8') as f:\n",
    "    writer = csv.writer(f)\n",
    "    writer.writerow(data)"
   ]
  },
  {
   "cell_type": "code",
   "execution_count": 74,
   "id": "b0147cc2",
   "metadata": {},
   "outputs": [],
   "source": [
    "#automate append\n",
    "\n",
    "def corePrice_desktop():\n",
    "    \n",
    "    URL = 'https://www.amazon.com/Valve-Compressor-Brass-Female-Small/dp/B0823QBKFV/ref=sr_1_11?crid=P0V2UOKVYY8B&keywords=valve&qid=1649227662&sprefix=valve%2Caps%2C742&sr=8-11'\n",
    "\n",
    "    headers = {\"User-Agent\": \"Mozilla/5.0 (Windows NT 10.0; Win64; x64) AppleWebKit/537.36 (KHTML, like Gecko) Chrome/97.0.4692.71 Safari/537.36\",\"Accept-Encoding\":\"gzip, deflate\", \"Accept\":\"text/html,application/xhtml+xml,application/xml;q=0.9,*/*;q=0.8\", \"DNT\":\"1\",\"Connection\":\"close\", \"Upgrade-Insecure-Requests\":\"1\"}\n",
    "\n",
    "    page = requests.get(URL, headers=headers)\n",
    "    soup1 = BeautifulSoup(page.content, \"html.parser\")\n",
    "\n",
    "    soup2 = BeautifulSoup(soup1.prettify(), 'html.parser')\n",
    "\n",
    "    title = soup2.find(id = 'title').get_text()\n",
    "\n",
    "    price = soup2.find(id = 'corePrice_desktop').get_text() \n",
    "\n",
    "    price = price.strip()[80:]\n",
    "    title = title.strip()\n",
    "    today = datetime.date.today()\n",
    "\n",
    "import csv \n",
    "header = ['Product', 'Price', 'Date Updated']\n",
    "data = [title, price, today]\n",
    "with open('valvedataset.csv', 'a+', newline= '', encoding = 'UTF8') as f:\n",
    "    writer = csv.writer(f)\n",
    "    writer.writerow(data)\n",
    "    \n",
    "   \n"
   ]
  },
  {
   "cell_type": "code",
   "execution_count": null,
   "id": "f70272c7",
   "metadata": {},
   "outputs": [],
   "source": [
    "#input price changes exery 24hrs into database\n",
    "\n",
    "while(True):\n",
    "    corePrice_desktop()\n",
    "    time.sleep(86400)"
   ]
  }
 ],
 "metadata": {
  "kernelspec": {
   "display_name": "Python 3 (ipykernel)",
   "language": "python",
   "name": "python3"
  },
  "language_info": {
   "codemirror_mode": {
    "name": "ipython",
    "version": 3
   },
   "file_extension": ".py",
   "mimetype": "text/x-python",
   "name": "python",
   "nbconvert_exporter": "python",
   "pygments_lexer": "ipython3",
   "version": "3.9.7"
  }
 },
 "nbformat": 4,
 "nbformat_minor": 5
}
